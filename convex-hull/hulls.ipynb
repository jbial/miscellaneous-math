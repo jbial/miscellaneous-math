{
 "cells": [
  {
   "cell_type": "markdown",
   "metadata": {},
   "source": [
    "# Convex Hull\n",
    "\n",
    "If you've ever taken a course on optimization (or it may be called 'linear/nonlinear programming'), you might have heard of an abstract object called the ***convex hull***. To understand what a convex hull is, we need to define what *convexity* is. \n",
    "\n",
    "Convexity is an extremely rich and satisfying subject to study. We'll only be scratching the surface of it, by introducing the concept of a *convex set* - which is the only thing we'll need for this notebook. We consider sets $C \\subseteq \\mathbb{R}^2$ and $C \\subseteq \\mathbb{R}^3$. A set $C$ is convex if and only if the following property holds for any $\\lambda \\in \\mathbb{R}$ such that $0 \\leq \\lambda \\leq 1$:\n",
    "\n",
    "$$\\lambda \\boldsymbol x + (1-\\lambda)\\boldsymbol y \\in C\\qquad \\forall \\boldsymbol x, \\boldsymbol y \\in C$$\n",
    "\n",
    "Intuitively, this says that a set is convex if the line segment connecting any two points is also contained in the set. Here's a figure I stole from WolframAlpha:\n",
    "\n",
    "![](https://mathworld.wolfram.com/images/eps-gif/ConvexConcave_1000.gif)\n",
    "\n",
    "Now we can formally define what a convex hull is. Given a set an arbitrary set $S$, the convex hull is the smallest convex set, denoted $C = Conv(S)$, that contains $S$. That is, the smallest convex set C such that $S \\subseteq C$.\n",
    "\n",
    "We'll see later that the convex hull has many practical applications. For now, we'll focus on computing the convex hull for a given set of points in 2D."
   ]
  },
  {
   "cell_type": "code",
   "execution_count": 36,
   "metadata": {},
   "outputs": [],
   "source": [
    "import numpy as np\n",
    "import matplotlib.pyplot as plt\n",
    "\n",
    "plt.rcParams[\"figure.figsize\"] = (10, 8)"
   ]
  },
  {
   "cell_type": "code",
   "execution_count": 37,
   "metadata": {},
   "outputs": [],
   "source": [
    "def randset(n, dim=2):\n",
    "    \"\"\"Generates a set of n gaussian random points\n",
    "    \n",
    "    Args:\n",
    "        n (int): size of output set\n",
    "        dim (int): dimensionality of the points\n",
    "    \"\"\"\n",
    "    # randomly generate the parameters\n",
    "    rand_covs = np.abs(np.random.randn(dim, dim))\n",
    "    \n",
    "    return np.random.multivariate_normal(np.zeros(dim), rand_covs.T @ rand_covs, size=n)"
   ]
  },
  {
   "cell_type": "code",
   "execution_count": 38,
   "metadata": {},
   "outputs": [
    {
     "data": {
      "image/png": "[encoded data removed]",
      "text/plain": [
       "<Figure size 720x576 with 1 Axes>"
      ]
     },
     "metadata": {},
     "output_type": "display_data"
    }
   ],
   "source": [
    "# generate random points\n",
    "points = randset(50)\n",
    "\n",
    "_ = plt.scatter(points[:, 0], points[:, 1])"
   ]
  },
  {
   "cell_type": "markdown",
   "metadata": {},
   "source": [
    "#### Gift Wrapping\n",
    "\n",
    "The first algorithm for finding the convex hull that we'll talk about is called the *gift wrapping algorithm* or the Jarvis March. "
   ]
  },
  {
   "cell_type": "code",
   "execution_count": null,
   "metadata": {},
   "outputs": [],
   "source": []
  }
 ],
 "metadata": {
  "kernelspec": {
   "display_name": "Python 3",
   "language": "python",
   "name": "python3"
  },
  "language_info": {
   "codemirror_mode": {
    "name": "ipython",
    "version": 3
   },
   "file_extension": ".py",
   "mimetype": "text/x-python",
   "name": "python",
   "nbconvert_exporter": "python",
   "pygments_lexer": "ipython3",
   "version": "3.7.4"
  }
 },
 "nbformat": 4,
 "nbformat_minor": 2
}
