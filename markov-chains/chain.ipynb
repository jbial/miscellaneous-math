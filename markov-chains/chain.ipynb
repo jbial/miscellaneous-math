{
 "cells": [
  {
   "cell_type": "code",
   "execution_count": 485,
   "metadata": {},
   "outputs": [],
   "source": [
    "# import libraries\n",
    "import numpy as np\n",
    "import matplotlib.pyplot as plt\n",
    "import matplotlib.animation as animation"
   ]
  },
  {
   "cell_type": "markdown",
   "metadata": {},
   "source": [
    "#### Normalization Schemes"
   ]
  },
  {
   "cell_type": "code",
   "execution_count": 486,
   "metadata": {},
   "outputs": [],
   "source": [
    "def sum_norm(A):\n",
    "    \"\"\"Normalize array by sum across row dimension\n",
    "    \n",
    "    A (np.ndarray): multidimensional array\n",
    "    \"\"\"\n",
    "    dim = len(A.shape)\n",
    "    \n",
    "    if dim == 1:\n",
    "        return A / A.sum()\n",
    "    elif dim > 1:\n",
    "        return A / A.sum(axis=-1, keepdims=True)\n",
    "    \n",
    "def softmax_norm(A):\n",
    "    \"\"\"Normalize array by softmax across row dimension\n",
    "    \n",
    "    A (np.ndarray): multidimensional array\n",
    "    \"\"\"\n",
    "    dim = len(A.shape)\n",
    "    \n",
    "    if dim == 1:\n",
    "        return np.exp(log_softmax(A, axis=0))\n",
    "    elif dim > 1:\n",
    "        return np.exp(log_softmax(A, axis=1))\n",
    "    \n",
    "def log_softmax(A, axis=0):\n",
    "    \"\"\"Computes log softmax using logsumexp trick\n",
    "    \n",
    "    A (np.ndarray): multidimensional array\n",
    "    axis (int): axis to operate over\n",
    "    \"\"\"\n",
    "    maxes = A.max(axis=axis, keepdims=True)\n",
    "    lse = np.log(np.exp(A - maxes).sum(axis=axis, keepdims=True))\n",
    "    return A - maxes - lse"
   ]
  },
  {
   "cell_type": "markdown",
   "metadata": {},
   "source": [
    "#### States"
   ]
  },
  {
   "cell_type": "code",
   "execution_count": 571,
   "metadata": {},
   "outputs": [
    {
     "name": "stdout",
     "output_type": "stream",
     "text": [
      "Expected state (uniform stationary distribution):  4.5\n"
     ]
    }
   ],
   "source": [
    "states = list(range(10))\n",
    "num_states = len(states)\n",
    "\n",
    "# expected state if final distribution is uniform\n",
    "print(\"Expected state (uniform stationary distribution): \", sum(range(num_states))/num_states)"
   ]
  },
  {
   "cell_type": "markdown",
   "metadata": {},
   "source": [
    "#### Transition matrices"
   ]
  },
  {
   "cell_type": "code",
   "execution_count": 579,
   "metadata": {},
   "outputs": [
    {
     "data": {
      "image/png": "[encoded data removed]",
      "text/plain": [
       "<Figure size 432x288 with 2 Axes>"
      ]
     },
     "metadata": {},
     "output_type": "display_data"
    }
   ],
   "source": [
    "# random transition matrix\n",
    "Q = np.random.normal(loc=0.01, size=(num_states, num_states))\n",
    "Q = sum_norm(Q)\n",
    "\n",
    "# visualize matrix\n",
    "_ = plt.imshow(Q, vmin=0, vmax=1)\n",
    "_ = plt.colorbar()\n",
    "_ = plt.axis('off')"
   ]
  },
  {
   "cell_type": "markdown",
   "metadata": {},
   "source": [
    "#### Initial Distributions"
   ]
  },
  {
   "cell_type": "code",
   "execution_count": 585,
   "metadata": {},
   "outputs": [
    {
     "data": {
      "image/png": "[encoded data removed]",
      "text/plain": [
       "<Figure size 432x288 with 2 Axes>"
      ]
     },
     "metadata": {},
     "output_type": "display_data"
    }
   ],
   "source": [
    "# initial distribution\n",
    "t = np.zeros(num_states)\n",
    "t[4] = 1\n",
    "\n",
    "# visualize initial distribution\n",
    "_ = plt.imshow(t[np.newaxis, :], vmin=0, vmax=1)\n",
    "_ = plt.colorbar()\n",
    "_ = plt.axis('off')"
   ]
  },
  {
   "cell_type": "markdown",
   "metadata": {},
   "source": [
    "#### N-step transition probability"
   ]
  },
  {
   "cell_type": "code",
   "execution_count": 586,
   "metadata": {},
   "outputs": [],
   "source": [
    "def run_chain(Q, t, N):\n",
    "    \"\"\"Runs a markov chain.\n",
    "    \n",
    "    Returns marginal probability evolution as (NxD) matrix,\n",
    "    as well as nth power transition matrix\n",
    "    \n",
    "    Args:\n",
    "        Q (np.ndarray): transition matrix\n",
    "        t (np.array): initial discrete distribution\n",
    "        N (int): number of steps to run the process for\n",
    "    \"\"\"\n",
    "    # initialize state evolution\n",
    "    states = np.zeros((N + 1, len(t)))\n",
    "    states[0] = t\n",
    "    \n",
    "    # initialize n-step transition matrix and init distribution\n",
    "    transition = np.empty_like(Q)\n",
    "    transition[:] = Q\n",
    "    \n",
    "    prob = np.empty_like(t)\n",
    "    prob[:] = t.T @ Q\n",
    "    \n",
    "    # run the markov chain\n",
    "    for i in range(N):\n",
    "        \n",
    "        # compute transition matrix\n",
    "        # renormalize matrix to correct for numerical errors\n",
    "        transition = softmax_norm(Q @ transition)\n",
    "        \n",
    "        # compute marginal distribution & renorm as well\n",
    "        prob = softmax_norm(t.T @ transition)\n",
    "        \n",
    "        # add to states\n",
    "        states[i + 1] = prob\n",
    "        \n",
    "    return transition, states"
   ]
  },
  {
   "cell_type": "code",
   "execution_count": 587,
   "metadata": {},
   "outputs": [
    {
     "data": {
      "image/png": "[encoded data removed]",
      "text/plain": [
       "<Figure size 432x288 with 2 Axes>"
      ]
     },
     "metadata": {},
     "output_type": "display_data"
    }
   ],
   "source": [
    "# run a markov chain and computed expected states over time\n",
    "Qn, probs = run_chain(Q, t, 50)\n",
    "\n",
    "E_state = (probs * states).sum(axis=1)\n",
    "\n",
    "# visualize new transition matrix\n",
    "# visualize matrix\n",
    "_ = plt.imshow(Qn, vmin=0, vmax=1)\n",
    "_ = plt.colorbar()\n",
    "_ = plt.axis('off')"
   ]
  },
  {
   "cell_type": "markdown",
   "metadata": {},
   "source": [
    "#### Visualization"
   ]
  },
  {
   "cell_type": "code",
   "execution_count": 588,
   "metadata": {},
   "outputs": [
    {
     "data": {
      "image/png": "[encoded data removed]",
      "text/plain": [
       "<Figure size 432x288 with 1 Axes>"
      ]
     },
     "metadata": {},
     "output_type": "display_data"
    }
   ],
   "source": [
    "_ = plt.plot(E_state)\n",
    "_ = plt.ylim(0, num_states + 1)"
   ]
  },
  {
   "cell_type": "code",
   "execution_count": 584,
   "metadata": {},
   "outputs": [
    {
     "data": {
      "image/png": "[encoded data removed]",
      "text/plain": [
       "<Figure size 432x288 with 1 Axes>"
      ]
     },
     "metadata": {},
     "output_type": "display_data"
    }
   ],
   "source": [
    "_ = plt.plot(np.argmax(probs, axis=1))"
   ]
  },
  {
   "cell_type": "code",
   "execution_count": null,
   "metadata": {},
   "outputs": [],
   "source": []
  }
 ],
 "metadata": {
  "kernelspec": {
   "display_name": "Python 3",
   "language": "python",
   "name": "python3"
  },
  "language_info": {
   "codemirror_mode": {
    "name": "ipython",
    "version": 3
   },
   "file_extension": ".py",
   "mimetype": "text/x-python",
   "name": "python",
   "nbconvert_exporter": "python",
   "pygments_lexer": "ipython3",
   "version": "3.7.4"
  }
 },
 "nbformat": 4,
 "nbformat_minor": 2
}
