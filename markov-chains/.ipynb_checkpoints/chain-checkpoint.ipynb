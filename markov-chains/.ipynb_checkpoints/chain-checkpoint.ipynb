{
 "cells": [
  {
   "cell_type": "code",
   "execution_count": 137,
   "metadata": {},
   "outputs": [],
   "source": [
    "# import libraries\n",
    "import numpy as np\n",
    "import matplotlib.pyplot as plt\n",
    "import matplotlib.animation as animation"
   ]
  },
  {
   "cell_type": "markdown",
   "metadata": {},
   "source": [
    "#### Normalization Schemes"
   ]
  },
  {
   "cell_type": "code",
   "execution_count": 198,
   "metadata": {},
   "outputs": [],
   "source": [
    "def sum_norm(A):\n",
    "    \"\"\"Normalize array by sum across row dimension\n",
    "    \n",
    "    A (np.ndarray): multidimensional array\n",
    "    \"\"\"\n",
    "    dim = len(A.shape)\n",
    "    \n",
    "    if dim == 1:\n",
    "        return A / A.sum()\n",
    "    elif dim > 1:\n",
    "        return A / A.sum(axis=-1, keepdims=True)\n",
    "    \n",
    "def softmax_norm(A):\n",
    "    \"\"\"Normalize array by softmax across row dimension\n",
    "    \n",
    "    A (np.ndarray): multidimensional array\n",
    "    \"\"\"\n",
    "    dim = len(A.shape)\n",
    "    \n",
    "    exp_A = np.exp(A)\n",
    "    if dim == 1:\n",
    "        return np.exp(log_softmax(A, axis=0))\n",
    "    elif dim > 1:\n",
    "        return np.exp(log_softmax(A, axis=1))\n",
    "    \n",
    "def log_softmax(A, axis=0):\n",
    "    \"\"\"Computes log softmax using logsumexp trick\n",
    "    \n",
    "    A (np.ndarray): multidimensional array\n",
    "    axis (int): axis to operate over\n",
    "    \"\"\"\n",
    "    maxes = A.max(axis=axis, keepdims=True)\n",
    "    lse = np.log(np.exp(A - maxes).sum(axis=axis, keepdims=True))\n",
    "    return A - maxes - lse"
   ]
  },
  {
   "cell_type": "markdown",
   "metadata": {},
   "source": [
    "#### States"
   ]
  },
  {
   "cell_type": "code",
   "execution_count": 199,
   "metadata": {},
   "outputs": [],
   "source": [
    "states = list(range(50))\n",
    "num_states = len(states)"
   ]
  },
  {
   "cell_type": "markdown",
   "metadata": {},
   "source": [
    "#### Transition matrices"
   ]
  },
  {
   "cell_type": "code",
   "execution_count": 204,
   "metadata": {},
   "outputs": [
    {
     "name": "stdout",
     "output_type": "stream",
     "text": [
      "[1. 1. 1. 1. 1. 1. 1. 1. 1. 1. 1. 1. 1. 1. 1. 1. 1. 1. 1. 1. 1. 1. 1. 1.\n",
      " 1. 1. 1. 1. 1. 1. 1. 1. 1. 1. 1. 1. 1. 1. 1. 1. 1. 1. 1. 1. 1. 1. 1. 1.\n",
      " 1. 1.]\n"
     ]
    },
    {
     "data": {
      "image/png": "[encoded data removed]",
      "text/plain": [
       "<Figure size 432x288 with 2 Axes>"
      ]
     },
     "metadata": {},
     "output_type": "display_data"
    }
   ],
   "source": [
    "# random transition matrix\n",
    "Q = np.random.randn(num_states, num_states)\n",
    "Q = sum_norm(Q)\n",
    "\n",
    "# visualize matrix\n",
    "_ = plt.imshow(Q, vmin=0, vmax=1)\n",
    "_ = plt.colorbar()\n",
    "_ = plt.axis('off')"
   ]
  },
  {
   "cell_type": "code",
   "execution_count": null,
   "metadata": {},
   "outputs": [],
   "source": []
  },
  {
   "cell_type": "markdown",
   "metadata": {},
   "source": [
    "#### Initial Distributions"
   ]
  },
  {
   "cell_type": "code",
   "execution_count": 201,
   "metadata": {},
   "outputs": [
    {
     "data": {
      "image/png": "[encoded data removed]",
      "text/plain": [
       "<Figure size 432x288 with 2 Axes>"
      ]
     },
     "metadata": {},
     "output_type": "display_data"
    }
   ],
   "source": [
    "# initial distribution\n",
    "t_unnormed = np.random.randn(num_states)\n",
    "t = softmax_norm(t_unnormed)\n",
    "\n",
    "# visualize initial distribution\n",
    "_ = plt.imshow(t[np.newaxis, :], vmin=0, vmax=1)\n",
    "_ = plt.colorbar()\n",
    "_ = plt.axis('off')"
   ]
  },
  {
   "cell_type": "markdown",
   "metadata": {},
   "source": [
    "#### N-step transition probability"
   ]
  },
  {
   "cell_type": "code",
   "execution_count": 202,
   "metadata": {},
   "outputs": [],
   "source": [
    "def run_chain(Q, t, N):\n",
    "    \"\"\"Runs a markov chain, returns marginal probability evolution as (NxD) matrix\n",
    "    \"\"\"\n",
    "    # initialize state evolution\n",
    "    states = np.zeros((N + 1, len(t)))\n",
    "    states[0] = t\n",
    "    \n",
    "    # run the markov chain\n",
    "    for i in range(N):\n",
    "        \n",
    "        # compute marginal distribution\n",
    "        t = Q @ t\n",
    "        \n",
    "        # add to states\n",
    "        states[i + 1] = softmax_norm(t)\n",
    "        \n",
    "    return states"
   ]
  },
  {
   "cell_type": "code",
   "execution_count": 203,
   "metadata": {},
   "outputs": [
    {
     "name": "stderr",
     "output_type": "stream",
     "text": [
      "/usr/local/lib/python3.7/site-packages/ipykernel_launcher.py:20: RuntimeWarning: overflow encountered in exp\n"
     ]
    }
   ],
   "source": [
    "# run a markov chain and computed expected states over time\n",
    "probs = run_chain(Q, t, 100)\n",
    "\n",
    "E_state = (probs * states).sum(axis=1)"
   ]
  },
  {
   "cell_type": "markdown",
   "metadata": {},
   "source": [
    "#### Visualization"
   ]
  },
  {
   "cell_type": "code",
   "execution_count": 191,
   "metadata": {},
   "outputs": [
    {
     "data": {
      "image/png": "[encoded data removed]",
      "text/plain": [
       "<Figure size 432x288 with 1 Axes>"
      ]
     },
     "metadata": {},
     "output_type": "display_data"
    }
   ],
   "source": [
    "_ = plt.plot(E_state)"
   ]
  },
  {
   "cell_type": "code",
   "execution_count": null,
   "metadata": {},
   "outputs": [],
   "source": []
  }
 ],
 "metadata": {
  "kernelspec": {
   "display_name": "Python 3",
   "language": "python",
   "name": "python3"
  },
  "language_info": {
   "codemirror_mode": {
    "name": "ipython",
    "version": 3
   },
   "file_extension": ".py",
   "mimetype": "text/x-python",
   "name": "python",
   "nbconvert_exporter": "python",
   "pygments_lexer": "ipython3",
   "version": "3.7.4"
  }
 },
 "nbformat": 4,
 "nbformat_minor": 2
}
